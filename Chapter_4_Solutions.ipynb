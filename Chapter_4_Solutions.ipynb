{
 "cells": [
  {
   "cell_type": "markdown",
   "metadata": {},
   "source": [
    "## Practise Problem 4.1"
   ]
  },
  {
   "cell_type": "markdown",
   "metadata": {},
   "source": [
    "Start by executing the assignment"
   ]
  },
  {
   "cell_type": "markdown",
   "metadata": {},
   "source": [
    "s = '0123456789'"
   ]
  },
  {
   "cell_type": "code",
   "execution_count": 2,
   "metadata": {},
   "outputs": [],
   "source": [
    "s = '0123456789'"
   ]
  },
  {
   "cell_type": "markdown",
   "metadata": {},
   "source": [
    "Now write expressions using string s and the indexing operator that evaluate to:"
   ]
  },
  {
   "cell_type": "code",
   "execution_count": 3,
   "metadata": {},
   "outputs": [
    {
     "data": {
      "text/plain": [
       "'234'"
      ]
     },
     "execution_count": 3,
     "metadata": {},
     "output_type": "execute_result"
    }
   ],
   "source": [
    "# (a) '234'\n",
    "\n",
    "s[2:5]"
   ]
  },
  {
   "cell_type": "code",
   "execution_count": 4,
   "metadata": {},
   "outputs": [
    {
     "data": {
      "text/plain": [
       "'78'"
      ]
     },
     "execution_count": 4,
     "metadata": {},
     "output_type": "execute_result"
    }
   ],
   "source": [
    "# (b) '78'\n",
    "\n",
    "s[-3:-1]"
   ]
  },
  {
   "cell_type": "code",
   "execution_count": 5,
   "metadata": {},
   "outputs": [
    {
     "data": {
      "text/plain": [
       "'1234567'"
      ]
     },
     "execution_count": 5,
     "metadata": {},
     "output_type": "execute_result"
    }
   ],
   "source": [
    "# (c) '1234567'\n",
    "\n",
    "s[1:8]"
   ]
  },
  {
   "cell_type": "code",
   "execution_count": 6,
   "metadata": {},
   "outputs": [
    {
     "data": {
      "text/plain": [
       "'0123'"
      ]
     },
     "execution_count": 6,
     "metadata": {},
     "output_type": "execute_result"
    }
   ],
   "source": [
    "# (d) '0123'\n",
    "\n",
    "s[:4]"
   ]
  },
  {
   "cell_type": "code",
   "execution_count": 7,
   "metadata": {},
   "outputs": [
    {
     "data": {
      "text/plain": [
       "'789'"
      ]
     },
     "execution_count": 7,
     "metadata": {},
     "output_type": "execute_result"
    }
   ],
   "source": [
    "# (e) '789'\n",
    "\n",
    "s[-3:]"
   ]
  },
  {
   "cell_type": "markdown",
   "metadata": {},
   "source": [
    "## Practise Problem 4.2"
   ]
  },
  {
   "cell_type": "markdown",
   "metadata": {},
   "source": [
    "Assuming that variable forecast has been assigned string"
   ]
  },
  {
   "cell_type": "markdown",
   "metadata": {},
   "source": [
    "'It will be a sunny day today'"
   ]
  },
  {
   "cell_type": "code",
   "execution_count": 8,
   "metadata": {},
   "outputs": [],
   "source": [
    "forecast= 'It will be a sunny day today'"
   ]
  },
  {
   "cell_type": "markdown",
   "metadata": {},
   "source": [
    "write Python statements corresponding to these assignments:"
   ]
  },
  {
   "cell_type": "code",
   "execution_count": 9,
   "metadata": {},
   "outputs": [
    {
     "data": {
      "text/plain": [
       "2"
      ]
     },
     "execution_count": 9,
     "metadata": {},
     "output_type": "execute_result"
    }
   ],
   "source": [
    "# (a) To variable count, the number of occurrences of string 'day' in string forecast.\n",
    "\n",
    "count= forecast.count('day')\n",
    "count"
   ]
  },
  {
   "cell_type": "code",
   "execution_count": 10,
   "metadata": {},
   "outputs": [
    {
     "data": {
      "text/plain": [
       "13"
      ]
     },
     "execution_count": 10,
     "metadata": {},
     "output_type": "execute_result"
    }
   ],
   "source": [
    "# (b) To variable weather, the index where substring 'sunny' starts.\n",
    "\n",
    "weather= forecast.find('sunny')\n",
    "weather"
   ]
  },
  {
   "cell_type": "code",
   "execution_count": 11,
   "metadata": {},
   "outputs": [
    {
     "data": {
      "text/plain": [
       "'It will be a cloudy day today'"
      ]
     },
     "execution_count": 11,
     "metadata": {},
     "output_type": "execute_result"
    }
   ],
   "source": [
    "# (c) To variable change, a copy of forecast in which every occurrence \n",
    "#     of substring 'sunny' is replaced by 'cloudy'.\n",
    "\n",
    "change= forecast.replace('sunny','cloudy')\n",
    "change"
   ]
  },
  {
   "cell_type": "markdown",
   "metadata": {},
   "source": [
    "## Practise Problem 4.3"
   ]
  },
  {
   "cell_type": "markdown",
   "metadata": {},
   "source": [
    "Write a statement that prints the values of variables last, first, and middle in one line, separated by a horizontal tab character. (The Python escape sequence for the horizontal tab character is \\t.) If the variables are assigned like this:"
   ]
  },
  {
   "cell_type": "markdown",
   "metadata": {},
   "source": [
    "last = 'Smith'"
   ]
  },
  {
   "cell_type": "markdown",
   "metadata": {},
   "source": [
    "first = 'John'"
   ]
  },
  {
   "cell_type": "markdown",
   "metadata": {},
   "source": [
    "middle = 'Paul'"
   ]
  },
  {
   "cell_type": "markdown",
   "metadata": {},
   "source": [
    "the output should be:"
   ]
  },
  {
   "cell_type": "markdown",
   "metadata": {},
   "source": [
    "Smith  John  Paul"
   ]
  },
  {
   "cell_type": "code",
   "execution_count": 12,
   "metadata": {},
   "outputs": [],
   "source": [
    "last = 'Smith'\n",
    "first = 'John'\n",
    "middle = 'Paul'"
   ]
  },
  {
   "cell_type": "code",
   "execution_count": 13,
   "metadata": {},
   "outputs": [
    {
     "name": "stdout",
     "output_type": "stream",
     "text": [
      "Smith\tJohn\tPaul\n"
     ]
    }
   ],
   "source": [
    "print(last, first, middle, sep= '\\t')"
   ]
  },
  {
   "cell_type": "markdown",
   "metadata": {},
   "source": [
    "## Practise Problem 4.4"
   ]
  },
  {
   "cell_type": "markdown",
   "metadata": {},
   "source": [
    "Write function even() that takes a positive integer n as input and prints on the screen all\n",
    "numbers between, and including, 2 and n divisible by 2 or by 3, using this output format:"
   ]
  },
  {
   "cell_type": "markdown",
   "metadata": {},
   "source": [
    "even(17)"
   ]
  },
  {
   "cell_type": "markdown",
   "metadata": {},
   "source": [
    "2, 3, 4, 6, 8, 9, 10, 12, 14, 15, 16,"
   ]
  },
  {
   "cell_type": "code",
   "execution_count": 14,
   "metadata": {},
   "outputs": [
    {
     "name": "stdout",
     "output_type": "stream",
     "text": [
      "2, 3, 4, 6, 8, 9, 10, 12, 14, 15, 16, "
     ]
    }
   ],
   "source": [
    "def even(n):\n",
    "    for i in range(2,n+1):\n",
    "        if i%2==0 or i%3==0:\n",
    "            print(i, end=\", \")\n",
    "even(17)"
   ]
  },
  {
   "cell_type": "markdown",
   "metadata": {},
   "source": [
    "## Practise Problem 4.5"
   ]
  },
  {
   "cell_type": "markdown",
   "metadata": {},
   "source": [
    "Assume variables first, last, street, number, city, state, zipcode have already been assigned. Write a print statement that creates a mailing label:"
   ]
  },
  {
   "cell_type": "markdown",
   "metadata": {},
   "source": [
    "John Doe"
   ]
  },
  {
   "cell_type": "markdown",
   "metadata": {},
   "source": [
    "123 Main Street"
   ]
  },
  {
   "cell_type": "markdown",
   "metadata": {},
   "source": [
    "AnyCity, AS 09876"
   ]
  },
  {
   "cell_type": "markdown",
   "metadata": {},
   "source": [
    "assuming that:"
   ]
  },
  {
   "cell_type": "markdown",
   "metadata": {},
   "source": [
    "first = 'John'"
   ]
  },
  {
   "cell_type": "markdown",
   "metadata": {},
   "source": [
    "last = 'Doe'"
   ]
  },
  {
   "cell_type": "markdown",
   "metadata": {},
   "source": [
    "street = 'Main Street'"
   ]
  },
  {
   "cell_type": "markdown",
   "metadata": {},
   "source": [
    "number = 123"
   ]
  },
  {
   "cell_type": "markdown",
   "metadata": {},
   "source": [
    "city = 'AnyCity'"
   ]
  },
  {
   "cell_type": "markdown",
   "metadata": {},
   "source": [
    "state = 'AS'"
   ]
  },
  {
   "cell_type": "markdown",
   "metadata": {},
   "source": [
    "zipcode = '09876'"
   ]
  },
  {
   "cell_type": "code",
   "execution_count": 15,
   "metadata": {},
   "outputs": [
    {
     "name": "stdout",
     "output_type": "stream",
     "text": [
      "John Doe\n",
      "123 Main Street\n",
      "AnyCity, AS 09876\n"
     ]
    }
   ],
   "source": [
    "first = 'John'\n",
    "last = 'Doe'\n",
    "street = 'Main Street'\n",
    "number = 123\n",
    "city = 'AnyCity'\n",
    "state = 'AS'\n",
    "zipcode = '09876'\n",
    "\n",
    "print('{} {}'.format(first, last))\n",
    "print('{} {}'.format(number, street))\n",
    "print('{}, {} {}'.format(city,state,zipcode))"
   ]
  },
  {
   "cell_type": "markdown",
   "metadata": {},
   "source": [
    "## Practise Problem 4.6"
   ]
  },
  {
   "cell_type": "markdown",
   "metadata": {},
   "source": [
    "Implement function roster() that takes a list containing student information and prints out a roster, as shown below. The student information, consisting of the student’s last name, first name, class, and average course grade, will be stored in that order in a list. Therefore, the input list is a list of lists. Make sure the roster printed out has 10 slots for every string value and 8 for the grade, including 2 slots for the decimal part."
   ]
  },
  {
   "cell_type": "markdown",
   "metadata": {},
   "source": [
    "students = []"
   ]
  },
  {
   "cell_type": "markdown",
   "metadata": {},
   "source": [
    "students.append(['DeMoines','Jim','Sophomore',3.45])"
   ]
  },
  {
   "cell_type": "markdown",
   "metadata": {},
   "source": [
    "students.append(['Pierre','Sophie','Sophomore',4.0])"
   ]
  },
  {
   "cell_type": "markdown",
   "metadata": {},
   "source": [
    "students.append(['Columbus','Maria','Senior',2.5])"
   ]
  },
  {
   "cell_type": "markdown",
   "metadata": {},
   "source": [
    "students.append(['Phoenix','River','Junior',2.45])"
   ]
  },
  {
   "cell_type": "markdown",
   "metadata": {},
   "source": [
    "students.append(['Olympis','Edgar','Junior',3.99])"
   ]
  },
  {
   "cell_type": "markdown",
   "metadata": {},
   "source": [
    "roster(students)"
   ]
  },
  {
   "cell_type": "code",
   "execution_count": 16,
   "metadata": {},
   "outputs": [
    {
     "name": "stdout",
     "output_type": "stream",
     "text": [
      "Last      First     Class     Average Grade\n",
      "DeMoines  Jim       Sophomore     3.45\n",
      "Pierre    Sophie    Sophomore     4.00\n",
      "Columbus  Maria     Senior        2.50\n",
      "Phoenix   River     Junior        2.45\n",
      "Olympis   Edgar     Junior        3.99\n"
     ]
    }
   ],
   "source": [
    "def roster(students):\n",
    "    print('Last','    ','First','   ','Class','   ','Average Grade')\n",
    "    for lst in students:\n",
    "          print('{:10}{:10}{:10}{:8.2f}'.format(lst[0],lst[1],lst[2],lst[3]))\n",
    "\n",
    "students = []\n",
    "students.append(['DeMoines','Jim','Sophomore',3.45])\n",
    "students.append(['Pierre','Sophie','Sophomore',4.0])\n",
    "students.append(['Columbus','Maria','Senior',2.5])\n",
    "students.append(['Phoenix','River','Junior',2.45])\n",
    "students.append(['Olympis','Edgar','Junior',3.99])\n",
    "\n",
    "roster(students)"
   ]
  },
  {
   "cell_type": "markdown",
   "metadata": {},
   "source": [
    "## Practise Problem 4.7"
   ]
  },
  {
   "cell_type": "markdown",
   "metadata": {},
   "source": [
    "Start by setting t to be the local time 1, 500, 000, 000 seconds from the start of January 1, 1970 UTC:"
   ]
  },
  {
   "cell_type": "markdown",
   "metadata": {},
   "source": [
    "import time"
   ]
  },
  {
   "cell_type": "markdown",
   "metadata": {},
   "source": [
    "t = time.localtime(1500000000)"
   ]
  },
  {
   "cell_type": "code",
   "execution_count": 17,
   "metadata": {},
   "outputs": [],
   "source": [
    "import time\n",
    "t = time.localtime(1500000000)"
   ]
  },
  {
   "cell_type": "markdown",
   "metadata": {},
   "source": [
    "Construct the next strings by using the string time format function strftime():"
   ]
  },
  {
   "cell_type": "code",
   "execution_count": 18,
   "metadata": {},
   "outputs": [
    {
     "data": {
      "text/plain": [
       "'Friday, July 14 2017'"
      ]
     },
     "execution_count": 18,
     "metadata": {},
     "output_type": "execute_result"
    }
   ],
   "source": [
    "# (a) 'Thursday, July 13 2017'\n",
    "\n",
    "time.strftime('%A, %B %d %Y', t)"
   ]
  },
  {
   "cell_type": "code",
   "execution_count": 19,
   "metadata": {
    "scrolled": true
   },
   "outputs": [
    {
     "data": {
      "text/plain": [
       "'08:10 AM Central Daylight Time on 07/14/2017'"
      ]
     },
     "execution_count": 19,
     "metadata": {},
     "output_type": "execute_result"
    }
   ],
   "source": [
    "# (b) '09:40 PM Central Daylight Time on 07/13/2017'\n",
    "\n",
    "time.strftime('%I:%M %p Central Daylight Time on %m/%d/%Y', t)"
   ]
  },
  {
   "cell_type": "code",
   "execution_count": 20,
   "metadata": {},
   "outputs": [
    {
     "data": {
      "text/plain": [
       "'I will meet you on Fri July at 08:10 AM'"
      ]
     },
     "execution_count": 20,
     "metadata": {},
     "output_type": "execute_result"
    }
   ],
   "source": [
    "# (c) 'I will meet you on Thu July 13 at 09:40 PM.'\n",
    "\n",
    "time.strftime('I will meet you on %a %B at %I:%M %p', t)"
   ]
  },
  {
   "cell_type": "markdown",
   "metadata": {},
   "source": [
    "## Practise Problem 4.8"
   ]
  },
  {
   "cell_type": "markdown",
   "metadata": {},
   "source": [
    "Write function stringCount() that takes two string inputs—a file name and a target string— and returns the number of occurrences of the target string in the file."
   ]
  },
  {
   "cell_type": "markdown",
   "metadata": {},
   "source": [
    "stringCount( 'example.txt' , 'line' )"
   ]
  },
  {
   "cell_type": "markdown",
   "metadata": {},
   "source": [
    "4"
   ]
  },
  {
   "cell_type": "code",
   "execution_count": 21,
   "metadata": {},
   "outputs": [
    {
     "data": {
      "text/plain": [
       "4"
      ]
     },
     "execution_count": 21,
     "metadata": {},
     "output_type": "execute_result"
    }
   ],
   "source": [
    "def stringCount(file_name, target):\n",
    "    file=open(file_name)\n",
    "    text=file.read()\n",
    "    file.close()\n",
    "    return text.count(target)\n",
    "\n",
    "stringCount('example.txt', 'line')"
   ]
  },
  {
   "cell_type": "markdown",
   "metadata": {},
   "source": [
    "## Practise Problem 4.9"
   ]
  },
  {
   "cell_type": "markdown",
   "metadata": {},
   "source": [
    "Write function words() that takes one input argument—a file name—and returns the list of actual words (without punctuation symbols !,.:;?) in the file."
   ]
  },
  {
   "cell_type": "markdown",
   "metadata": {},
   "source": [
    "words( 'example.txt' )"
   ]
  },
  {
   "cell_type": "markdown",
   "metadata": {},
   "source": [
    "[ 'The' , '3' , 'lines' , 'in' , 'this' , 'file' , 'end' , 'with' , 'the' , 'new' , 'line' , 'character' , 'There' , 'is' , 'a' , 'blank' , 'line' , 'above' , 'this' , 'line' ]"
   ]
  },
  {
   "cell_type": "code",
   "execution_count": 22,
   "metadata": {},
   "outputs": [
    {
     "name": "stdout",
     "output_type": "stream",
     "text": [
      "['The', '3', 'lines', 'in', 'this', 'file', 'end', 'with', 'the', 'new', 'line', 'character', 'There', 'is', 'a', 'blank', 'line', 'above', 'this', 'line']\n"
     ]
    }
   ],
   "source": [
    "def words(filename):\n",
    "    file=open(filename)\n",
    "    text=file.read()\n",
    "    file.close()\n",
    "    new=text.replace('.',' ')    \n",
    "    print(new.split())\n",
    "    \n",
    "words('example.txt')"
   ]
  },
  {
   "cell_type": "markdown",
   "metadata": {},
   "source": [
    "## Practise Problem 4.10"
   ]
  },
  {
   "cell_type": "markdown",
   "metadata": {},
   "source": [
    "Implement function myGrep() that takes as input two strings, a file name and a target string, and prints every line of the file that contains the target string as a substring."
   ]
  },
  {
   "cell_type": "markdown",
   "metadata": {},
   "source": [
    "myGrep( 'example.txt' , 'line' )"
   ]
  },
  {
   "cell_type": "markdown",
   "metadata": {},
   "source": [
    "The 3 lines in this file end with the new line character.\n",
    "There is a blank line above this line."
   ]
  },
  {
   "cell_type": "code",
   "execution_count": 23,
   "metadata": {},
   "outputs": [
    {
     "name": "stdout",
     "output_type": "stream",
     "text": [
      "The 3 lines in this file end with the new line character.\n",
      "There is a blank line above this line."
     ]
    }
   ],
   "source": [
    "def myGrep(filename, target):\n",
    "    file=open(filename)\n",
    "    lines=file.readlines()\n",
    "    file.close()\n",
    "    for line in lines:\n",
    "        if target in line:\n",
    "            print(line, end='')\n",
    "            \n",
    "myGrep('example.txt', 'line')"
   ]
  },
  {
   "cell_type": "markdown",
   "metadata": {},
   "source": [
    "## Practise Problem 4.11"
   ]
  },
  {
   "cell_type": "markdown",
   "metadata": {},
   "source": [
    "==> (3+4]"
   ]
  },
  {
   "cell_type": "markdown",
   "metadata": {},
   "source": [
    "SyntaxError: invalid syntax"
   ]
  },
  {
   "cell_type": "markdown",
   "metadata": {},
   "source": [
    "==> if x == 5"
   ]
  },
  {
   "cell_type": "markdown",
   "metadata": {},
   "source": [
    "SyntaxError: invalid syntax"
   ]
  },
  {
   "cell_type": "markdown",
   "metadata": {},
   "source": [
    "==> print 'hello'"
   ]
  },
  {
   "cell_type": "markdown",
   "metadata": {},
   "source": [
    "SyntaxError: invalid syntax"
   ]
  },
  {
   "cell_type": "markdown",
   "metadata": {},
   "source": [
    "==> lst = [4;5;6]"
   ]
  },
  {
   "cell_type": "markdown",
   "metadata": {},
   "source": [
    "SyntaxError: invalid syntax"
   ]
  },
  {
   "cell_type": "markdown",
   "metadata": {},
   "source": [
    "==> for i in range(10):"
   ]
  },
  {
   "cell_type": "markdown",
   "metadata": {},
   "source": [
    "print(i)"
   ]
  },
  {
   "cell_type": "markdown",
   "metadata": {},
   "source": [
    "SyntaxError: expected an indented block"
   ]
  },
  {
   "cell_type": "markdown",
   "metadata": {},
   "source": [
    "Explain what causes the syntax error in each statement just listed. Then write a correct version of each Python statement."
   ]
  },
  {
   "cell_type": "code",
   "execution_count": 24,
   "metadata": {},
   "outputs": [
    {
     "name": "stdout",
     "output_type": "stream",
     "text": [
      "7\n",
      "[7]\n"
     ]
    }
   ],
   "source": [
    "# a) The left and right brackets are not same. Either:\n",
    "print((3+4))\n",
    "print([3+4])\n",
    "# is possible"
   ]
  },
  {
   "cell_type": "code",
   "execution_count": 25,
   "metadata": {},
   "outputs": [],
   "source": [
    "# b) There is no column at the end. Correct version is\n",
    "# if x == 5:"
   ]
  },
  {
   "cell_type": "code",
   "execution_count": 26,
   "metadata": {},
   "outputs": [],
   "source": [
    "# c) print() is a function. So the arguments must be inside the ()\n",
    "# Correct version is print('hello')"
   ]
  },
  {
   "cell_type": "code",
   "execution_count": 27,
   "metadata": {},
   "outputs": [],
   "source": [
    "# d) Objects in list should be separated by commas. Corect version is\n",
    "# [4,5,6]"
   ]
  },
  {
   "cell_type": "code",
   "execution_count": 28,
   "metadata": {},
   "outputs": [
    {
     "name": "stdout",
     "output_type": "stream",
     "text": [
      "0\n",
      "1\n",
      "2\n",
      "3\n",
      "4\n",
      "5\n",
      "6\n",
      "7\n",
      "8\n",
      "9\n"
     ]
    }
   ],
   "source": [
    "# e) There is no indentation under the for statement. Correct version is\n",
    "for i in range(10):\n",
    "    print(i)"
   ]
  },
  {
   "cell_type": "markdown",
   "metadata": {},
   "source": [
    "## Exercise 4.12"
   ]
  },
  {
   "cell_type": "markdown",
   "metadata": {},
   "source": [
    "Start by running, in the interactive shell, this assignment statement:"
   ]
  },
  {
   "cell_type": "markdown",
   "metadata": {},
   "source": [
    "s = 'abcdefghijklmnopqrstuvwxyz'"
   ]
  },
  {
   "cell_type": "code",
   "execution_count": 29,
   "metadata": {},
   "outputs": [],
   "source": [
    "s = 'abcdefghijklmnopqrstuvwxyz'"
   ]
  },
  {
   "cell_type": "markdown",
   "metadata": {},
   "source": [
    "Now write expressions using string s and the indexing operator that evaluate to 'bcd', 'abc', 'defghijklmnopqrstuvwx', 'wxy', and 'wxyz'."
   ]
  },
  {
   "cell_type": "code",
   "execution_count": 30,
   "metadata": {},
   "outputs": [
    {
     "name": "stdout",
     "output_type": "stream",
     "text": [
      "bcd\n",
      "abc\n",
      "defghijklmnopqrstuvwx\n",
      "wxy\n",
      "wxyz\n"
     ]
    }
   ],
   "source": [
    "print(s[1:4])\n",
    "print(s[:3])\n",
    "print(s[3:-2])\n",
    "print(s[-4:-1])\n",
    "print(s[-4:])"
   ]
  },
  {
   "cell_type": "markdown",
   "metadata": {},
   "source": [
    "## Exercise 4.13"
   ]
  },
  {
   "cell_type": "markdown",
   "metadata": {},
   "source": [
    "Let string s be defined as:"
   ]
  },
  {
   "cell_type": "markdown",
   "metadata": {},
   "source": [
    "s = 'abcdefghijklmnopqrstuvwxyz'"
   ]
  },
  {
   "cell_type": "code",
   "execution_count": 31,
   "metadata": {},
   "outputs": [],
   "source": [
    "s = 'abcdefghijklmnopqrstuvwxyz'"
   ]
  },
  {
   "cell_type": "markdown",
   "metadata": {},
   "source": [
    "Write Python Boolean expressions that correspond to these propositions:"
   ]
  },
  {
   "cell_type": "code",
   "execution_count": 32,
   "metadata": {},
   "outputs": [
    {
     "data": {
      "text/plain": [
       "True"
      ]
     },
     "execution_count": 32,
     "metadata": {},
     "output_type": "execute_result"
    }
   ],
   "source": [
    "# (a) The slice consisting of the second and third character of s is 'bc'.\n",
    "\n",
    "s[1:3]=='bc'"
   ]
  },
  {
   "cell_type": "code",
   "execution_count": 33,
   "metadata": {},
   "outputs": [
    {
     "data": {
      "text/plain": [
       "True"
      ]
     },
     "execution_count": 33,
     "metadata": {},
     "output_type": "execute_result"
    }
   ],
   "source": [
    "# (b) The slice consisting of the first 14 characters of s is 'abcdefghijklmn'.\n",
    "\n",
    "s[:14]=='abcdefghijklmn'"
   ]
  },
  {
   "cell_type": "code",
   "execution_count": 34,
   "metadata": {},
   "outputs": [
    {
     "data": {
      "text/plain": [
       "True"
      ]
     },
     "execution_count": 34,
     "metadata": {},
     "output_type": "execute_result"
    }
   ],
   "source": [
    "# (c) The slice of s excluding the first 14 characters is 'opqrstuvwxyz'.\n",
    "\n",
    "s[14:]=='opqrstuvwxyz'"
   ]
  },
  {
   "cell_type": "code",
   "execution_count": 35,
   "metadata": {},
   "outputs": [
    {
     "data": {
      "text/plain": [
       "False"
      ]
     },
     "execution_count": 35,
     "metadata": {},
     "output_type": "execute_result"
    }
   ],
   "source": [
    "# (d) The slice of s excluding the first and last characters is 'bcdefghijklmnopqrstuvw'.\n",
    "\n",
    "s[1:25]=='bcdefghijklmnopqrstuvw'"
   ]
  },
  {
   "cell_type": "markdown",
   "metadata": {},
   "source": [
    "## Exercise 4.14"
   ]
  },
  {
   "cell_type": "markdown",
   "metadata": {},
   "source": [
    "Translate each part into a Python statement:"
   ]
  },
  {
   "cell_type": "markdown",
   "metadata": {},
   "source": [
    "(a) Assign to variable log the next string, which happens to be a fragment of a log of a request for a text file from a web server:\n",
    "128.0.0.1 - - [12/Feb/2011:10:31:08 -0600] \"GET /docs/test.txt HTTP/1.0\""
   ]
  },
  {
   "cell_type": "code",
   "execution_count": 36,
   "metadata": {},
   "outputs": [
    {
     "data": {
      "text/plain": [
       "'128.0.0.1 - - [12/Feb/2011:10:31:08 -0600] \"GET /docs/test.txt HTTP/1.0\"'"
      ]
     },
     "execution_count": 36,
     "metadata": {},
     "output_type": "execute_result"
    }
   ],
   "source": [
    "log ='128.0.0.1 - - [12/Feb/2011:10:31:08 -0600] \"GET /docs/test.txt HTTP/1.0\"'\n",
    "log"
   ]
  },
  {
   "cell_type": "markdown",
   "metadata": {},
   "source": [
    "(b) Assign to variable address the substring of log that ends before the first blank space in log, using the string method split() and the indexing operator."
   ]
  },
  {
   "cell_type": "code",
   "execution_count": 37,
   "metadata": {},
   "outputs": [
    {
     "data": {
      "text/plain": [
       "'128.0.0.1'"
      ]
     },
     "execution_count": 37,
     "metadata": {},
     "output_type": "execute_result"
    }
   ],
   "source": [
    "address= log.split(' ')[0]\n",
    "address"
   ]
  },
  {
   "cell_type": "markdown",
   "metadata": {},
   "source": [
    "(c) Assign to variable date the splice of string log containing the date (12/Feb ... -6000), using the indexing operator on string log."
   ]
  },
  {
   "cell_type": "code",
   "execution_count": 38,
   "metadata": {},
   "outputs": [
    {
     "data": {
      "text/plain": [
       "'[12/Feb/2011:10:31:08 -0600]'"
      ]
     },
     "execution_count": 38,
     "metadata": {},
     "output_type": "execute_result"
    }
   ],
   "source": [
    "date=log[log.index('['):log.index(']')+1]\n",
    "date"
   ]
  },
  {
   "cell_type": "markdown",
   "metadata": {},
   "source": [
    "## Exercise 4.15"
   ]
  },
  {
   "cell_type": "markdown",
   "metadata": {},
   "source": [
    "For each of the below string values of s, write the expression involving s and the string methods split() that evaluates to list:"
   ]
  },
  {
   "cell_type": "markdown",
   "metadata": {},
   "source": [
    "[ '10' , '20' , '30' , '40' , '50' , '60' ]"
   ]
  },
  {
   "cell_type": "code",
   "execution_count": 39,
   "metadata": {},
   "outputs": [
    {
     "data": {
      "text/plain": [
       "['10', '20', '30', '40', '50', '60']"
      ]
     },
     "execution_count": 39,
     "metadata": {},
     "output_type": "execute_result"
    }
   ],
   "source": [
    "# (a) s = '10 20 30 40 50 60'\n",
    "\n",
    "s= '10 20 30 40 50 60'\n",
    "s.split()"
   ]
  },
  {
   "cell_type": "code",
   "execution_count": 40,
   "metadata": {},
   "outputs": [
    {
     "data": {
      "text/plain": [
       "['10', '20', '30', '40', '50', '60']"
      ]
     },
     "execution_count": 40,
     "metadata": {},
     "output_type": "execute_result"
    }
   ],
   "source": [
    "# (b) s = '10,20,30,40,50,60'\n",
    "\n",
    "s = '10,20,30,40,50,60'\n",
    "s.split(',')"
   ]
  },
  {
   "cell_type": "code",
   "execution_count": 41,
   "metadata": {},
   "outputs": [
    {
     "data": {
      "text/plain": [
       "['10', '20', '30', '40', '50', '60']"
      ]
     },
     "execution_count": 41,
     "metadata": {},
     "output_type": "execute_result"
    }
   ],
   "source": [
    "# (c) s = '10&20&30&40&50&60'\n",
    "\n",
    "s = '10&20&30&40&50&60'\n",
    "s.split('&')"
   ]
  },
  {
   "cell_type": "code",
   "execution_count": 42,
   "metadata": {},
   "outputs": [
    {
     "data": {
      "text/plain": [
       "['10', '20', '30', '40', '50', '60']"
      ]
     },
     "execution_count": 42,
     "metadata": {},
     "output_type": "execute_result"
    }
   ],
   "source": [
    "# (d) s = '10 - 20 - 30 - 40 - 50 - 60'\n",
    "\n",
    "s = '10 - 20 - 30 - 40 - 50 - 60'\n",
    "s.split(' - ')"
   ]
  },
  {
   "cell_type": "markdown",
   "metadata": {},
   "source": [
    "## Exercise 4.16"
   ]
  },
  {
   "cell_type": "markdown",
   "metadata": {},
   "source": [
    "Implement a program that requests three words (strings) from the user. Your program should print Boolean value True if the words were entered in dictionary order; otherwise nothing is printed."
   ]
  },
  {
   "cell_type": "markdown",
   "metadata": {},
   "source": [
    "Enter first word: bass"
   ]
  },
  {
   "cell_type": "markdown",
   "metadata": {},
   "source": [
    "Enter second word: salmon"
   ]
  },
  {
   "cell_type": "markdown",
   "metadata": {},
   "source": [
    "Enter third word: whitefish"
   ]
  },
  {
   "cell_type": "markdown",
   "metadata": {},
   "source": [
    "True"
   ]
  },
  {
   "cell_type": "code",
   "execution_count": 44,
   "metadata": {},
   "outputs": [
    {
     "name": "stdout",
     "output_type": "stream",
     "text": [
      "Enter first word:'bass'\n",
      "Enter second word:'salmon'\n",
      "Enter third word:'whitefish'\n",
      "True\n"
     ]
    }
   ],
   "source": [
    "a=eval(input(\"Enter first word:\"))\n",
    "b=eval(input(\"Enter second word:\"))\n",
    "c=eval(input(\"Enter third word:\"))\n",
    "if a<b<c:\n",
    "    print(True)"
   ]
  },
  {
   "cell_type": "markdown",
   "metadata": {},
   "source": [
    "## Exercise 4.17"
   ]
  },
  {
   "cell_type": "markdown",
   "metadata": {},
   "source": [
    "Translate each part into a Python statement using appropriate string methods:"
   ]
  },
  {
   "cell_type": "code",
   "execution_count": 45,
   "metadata": {},
   "outputs": [
    {
     "data": {
      "text/plain": [
       "'The secret of this message is that it is secret.'"
      ]
     },
     "execution_count": 45,
     "metadata": {},
     "output_type": "execute_result"
    }
   ],
   "source": [
    "# (a) Assign to variable message the string 'The secret of this message\n",
    "#     is that it is secret.'\n",
    "\n",
    "message= 'The secret of this message is that it is secret.'\n",
    "message"
   ]
  },
  {
   "cell_type": "code",
   "execution_count": 46,
   "metadata": {},
   "outputs": [
    {
     "data": {
      "text/plain": [
       "48"
      ]
     },
     "execution_count": 46,
     "metadata": {},
     "output_type": "execute_result"
    }
   ],
   "source": [
    "# (b) Assign to variable length the length of string message, using operator len().\n",
    "\n",
    "length=len(message)\n",
    "length"
   ]
  },
  {
   "cell_type": "code",
   "execution_count": 47,
   "metadata": {},
   "outputs": [
    {
     "data": {
      "text/plain": [
       "2"
      ]
     },
     "execution_count": 47,
     "metadata": {},
     "output_type": "execute_result"
    }
   ],
   "source": [
    "# (c) Assign to variable count the number of times the substring 'secret' \n",
    "#     appears in string message, using string method count().\n",
    "\n",
    "count= message.count('secret')\n",
    "count"
   ]
  },
  {
   "cell_type": "code",
   "execution_count": 48,
   "metadata": {},
   "outputs": [
    {
     "data": {
      "text/plain": [
       "'The xxxxxx of this message is that it is xxxxxx.'"
      ]
     },
     "execution_count": 48,
     "metadata": {},
     "output_type": "execute_result"
    }
   ],
   "source": [
    "# (d) Assign to variable censored a copy of string message with every occurrence of \n",
    "#     substring 'secret' replaced by 'xxxxxx', using string method replace().\n",
    "\n",
    "censored= message.replace('secret', 'xxxxxx')\n",
    "censored"
   ]
  },
  {
   "cell_type": "markdown",
   "metadata": {},
   "source": [
    "## Exercise 4.18"
   ]
  },
  {
   "cell_type": "markdown",
   "metadata": {},
   "source": [
    "Suppose variable s has been assigned in this way:"
   ]
  },
  {
   "cell_type": "markdown",
   "metadata": {},
   "source": [
    "s = '''It was the best of times , it was the worst of times; it was the age of wisdom , it was the age of foolishness; it was the epoch of belief , it was the epoch of incredulity; it was ...'''"
   ]
  },
  {
   "cell_type": "markdown",
   "metadata": {},
   "source": [
    "(The beginning of A Tale of Two Cities by Charles Dickens.) Then do the following, in order:"
   ]
  },
  {
   "cell_type": "code",
   "execution_count": 49,
   "metadata": {},
   "outputs": [],
   "source": [
    "s = '''It was the best of times , it was the worst of times;\\\n",
    "it was the age of wisdom , it was the age of foolishness; it was \\\n",
    "the epoch of belief , it was the epoch of incredulity; it was ...'''"
   ]
  },
  {
   "cell_type": "code",
   "execution_count": 50,
   "metadata": {},
   "outputs": [
    {
     "data": {
      "text/plain": [
       "'It was the best of times   it was the worst of times it was the age of wisdom   it was the age of foolishness  it was the epoch of belief   it was the epoch of incredulity  it was    '"
      ]
     },
     "execution_count": 50,
     "metadata": {},
     "output_type": "execute_result"
    }
   ],
   "source": [
    "# (a) Write a sequence of statements that produce a copy of s, named newS,\n",
    "#     in which characters ., ,, ;, and \\n have been replaced by blank spaces.\n",
    "\n",
    "table= str.maketrans('.,;\\n','    ')\n",
    "newS= s.translate(table)\n",
    "newS"
   ]
  },
  {
   "cell_type": "code",
   "execution_count": 51,
   "metadata": {},
   "outputs": [
    {
     "data": {
      "text/plain": [
       "'It was the best of times   it was the worst of times it was the age of wisdom   it was the age of foolishness  it was the epoch of belief   it was the epoch of incredulity  it was'"
      ]
     },
     "execution_count": 51,
     "metadata": {},
     "output_type": "execute_result"
    }
   ],
   "source": [
    "# (b) Remove leading and trailing blank spaces in newS (and name the new string newS).\n",
    "\n",
    "newS=newS.strip()\n",
    "newS"
   ]
  },
  {
   "cell_type": "code",
   "execution_count": 52,
   "metadata": {},
   "outputs": [
    {
     "data": {
      "text/plain": [
       "'it was the best of times   it was the worst of times it was the age of wisdom   it was the age of foolishness  it was the epoch of belief   it was the epoch of incredulity  it was'"
      ]
     },
     "execution_count": 52,
     "metadata": {},
     "output_type": "execute_result"
    }
   ],
   "source": [
    "# (c) Make all the characters in newS lowercase (and name the new string newS).\n",
    "\n",
    "newS= newS.lower()\n",
    "newS"
   ]
  },
  {
   "cell_type": "code",
   "execution_count": 53,
   "metadata": {},
   "outputs": [
    {
     "data": {
      "text/plain": [
       "7"
      ]
     },
     "execution_count": 53,
     "metadata": {},
     "output_type": "execute_result"
    }
   ],
   "source": [
    "# (d) Compute the number of occurrences in newS of string 'it was'.\n",
    "\n",
    "occurrence= newS.count('it was')\n",
    "occurrence"
   ]
  },
  {
   "cell_type": "code",
   "execution_count": 54,
   "metadata": {},
   "outputs": [
    {
     "data": {
      "text/plain": [
       "'it is the best of times   it is the worst of times it is the age of wisdom   it is the age of foolishness  it is the epoch of belief   it is the epoch of incredulity  it is'"
      ]
     },
     "execution_count": 54,
     "metadata": {},
     "output_type": "execute_result"
    }
   ],
   "source": [
    "# (e) Change every occurrence of was to is (and name the new string newS).\n",
    "\n",
    "newS=newS.replace('was','is')\n",
    "newS"
   ]
  },
  {
   "cell_type": "code",
   "execution_count": 55,
   "metadata": {},
   "outputs": [
    {
     "name": "stdout",
     "output_type": "stream",
     "text": [
      "['it', 'is', 'the', 'best', 'of', 'times', 'it', 'is', 'the', 'worst', 'of', 'times', 'it', 'is', 'the', 'age', 'of', 'wisdom', 'it', 'is', 'the', 'age', 'of', 'foolishness', 'it', 'is', 'the', 'epoch', 'of', 'belief', 'it', 'is', 'the', 'epoch', 'of', 'incredulity', 'it', 'is'] "
     ]
    }
   ],
   "source": [
    "# (f) Split newS into a list of words and name the list listS.\n",
    "\n",
    "listS=newS.split()\n",
    "print(listS,end=' ')"
   ]
  },
  {
   "cell_type": "markdown",
   "metadata": {},
   "source": [
    "## Exercise 4.19"
   ]
  },
  {
   "cell_type": "markdown",
   "metadata": {},
   "source": [
    "Write Python statements that print the next formatted outputs using the already assigned variables first, middle, and last:"
   ]
  },
  {
   "cell_type": "markdown",
   "metadata": {},
   "source": [
    "first = 'Marlena'"
   ]
  },
  {
   "cell_type": "markdown",
   "metadata": {},
   "source": [
    "last = 'Sigel'"
   ]
  },
  {
   "cell_type": "markdown",
   "metadata": {},
   "source": [
    "middle = 'Mae'"
   ]
  },
  {
   "cell_type": "code",
   "execution_count": 56,
   "metadata": {},
   "outputs": [],
   "source": [
    "first = 'Marlena'\n",
    "last = 'Sigel'\n",
    "middle = 'Mae'"
   ]
  },
  {
   "cell_type": "code",
   "execution_count": 57,
   "metadata": {},
   "outputs": [
    {
     "data": {
      "text/plain": [
       "'Sigel, Marlena Mae'"
      ]
     },
     "execution_count": 57,
     "metadata": {},
     "output_type": "execute_result"
    }
   ],
   "source": [
    "# (a) Sigel, Marlena Mae\n",
    "\n",
    "'{}, {} {}'.format(last,first,middle)"
   ]
  },
  {
   "cell_type": "code",
   "execution_count": 58,
   "metadata": {},
   "outputs": [
    {
     "data": {
      "text/plain": [
       "'Sigel, Marlena M.'"
      ]
     },
     "execution_count": 58,
     "metadata": {},
     "output_type": "execute_result"
    }
   ],
   "source": [
    "# (b) Sigel, Marlena M.\n",
    "\n",
    "'{}, {} {}.'.format(last,first,middle[0])"
   ]
  },
  {
   "cell_type": "code",
   "execution_count": 59,
   "metadata": {},
   "outputs": [
    {
     "data": {
      "text/plain": [
       "'Marlena M. Sigel'"
      ]
     },
     "execution_count": 59,
     "metadata": {},
     "output_type": "execute_result"
    }
   ],
   "source": [
    "# (c) Marlena M. Sigel\n",
    "\n",
    "'{} {}. {}'.format(first,middle[0],last)"
   ]
  },
  {
   "cell_type": "code",
   "execution_count": 60,
   "metadata": {},
   "outputs": [
    {
     "data": {
      "text/plain": [
       "'M. M. Sigel'"
      ]
     },
     "execution_count": 60,
     "metadata": {},
     "output_type": "execute_result"
    }
   ],
   "source": [
    "# (d) M. M. Sigel\n",
    "\n",
    "'{}. {}. {}'.format(middle[0],middle[0],last)"
   ]
  },
  {
   "cell_type": "code",
   "execution_count": 61,
   "metadata": {},
   "outputs": [
    {
     "data": {
      "text/plain": [
       "'Sigel, M.'"
      ]
     },
     "execution_count": 61,
     "metadata": {},
     "output_type": "execute_result"
    }
   ],
   "source": [
    "# (e) Sigel, M.\n",
    "\n",
    "'{}, {}.'.format(last, middle[0])"
   ]
  },
  {
   "cell_type": "markdown",
   "metadata": {},
   "source": [
    "## Exercise 4.20"
   ]
  },
  {
   "cell_type": "markdown",
   "metadata": {},
   "source": [
    "Given string values for the sender, recipient, and subject of an email, write a string format expression that uses variables sender, recipient, and subject and that prints as shown here:"
   ]
  },
  {
   "cell_type": "markdown",
   "metadata": {},
   "source": [
    "#>>> sender = 'tim@abc.com'"
   ]
  },
  {
   "cell_type": "markdown",
   "metadata": {},
   "source": [
    "#>>> recipient = 'tom@xyz.org'"
   ]
  },
  {
   "cell_type": "markdown",
   "metadata": {},
   "source": [
    "#>>> subject = 'Hello!'"
   ]
  },
  {
   "cell_type": "markdown",
   "metadata": {},
   "source": [
    "#>>> print(???)"
   ]
  },
  {
   "cell_type": "markdown",
   "metadata": {},
   "source": [
    "From: tim@abc.com"
   ]
  },
  {
   "cell_type": "markdown",
   "metadata": {},
   "source": [
    "To: tom@xyz.org"
   ]
  },
  {
   "cell_type": "markdown",
   "metadata": {},
   "source": [
    "Subject: Hello!"
   ]
  },
  {
   "cell_type": "code",
   "execution_count": 62,
   "metadata": {},
   "outputs": [
    {
     "name": "stdout",
     "output_type": "stream",
     "text": [
      "From: tim@abc.com\n",
      "To: tom@xyz.org\n",
      "Subject: Hello!\n"
     ]
    }
   ],
   "source": [
    "sender = 'tim@abc.com'\n",
    "recipient = 'tom@xyz.org'\n",
    "subject = 'Hello!'\n",
    "print('From: {}\\nTo: {}\\nSubject: {}'.format(sender,recipient,subject))"
   ]
  },
  {
   "cell_type": "markdown",
   "metadata": {},
   "source": [
    "## Exercise 4.21"
   ]
  },
  {
   "cell_type": "markdown",
   "metadata": {},
   "source": [
    "Write Python statements that print the values of π and the Euler constant e in the shown formats:"
   ]
  },
  {
   "cell_type": "code",
   "execution_count": 63,
   "metadata": {},
   "outputs": [
    {
     "data": {
      "text/plain": [
       "'pi = 3.1, e = 2.7'"
      ]
     },
     "execution_count": 63,
     "metadata": {},
     "output_type": "execute_result"
    }
   ],
   "source": [
    "# (a) pi = 3.1, e = 2.7\n",
    "\n",
    "import math\n",
    "pi= math.pi\n",
    "e=math.e\n",
    "\n",
    "'pi = {:0.1f}, e = {:1.1f}'.format(pi,e)"
   ]
  },
  {
   "cell_type": "code",
   "execution_count": 64,
   "metadata": {},
   "outputs": [
    {
     "data": {
      "text/plain": [
       "'pi = 3.14, e = 2.72'"
      ]
     },
     "execution_count": 64,
     "metadata": {},
     "output_type": "execute_result"
    }
   ],
   "source": [
    "# (b) pi = 3.14, e = 2.72\n",
    "\n",
    "'pi = {:0.2f}, e = {:1.2f}'.format(pi,e)"
   ]
  },
  {
   "cell_type": "code",
   "execution_count": 65,
   "metadata": {},
   "outputs": [
    {
     "data": {
      "text/plain": [
       "'pi = 3.141593e+00, e = 2.718282e+00'"
      ]
     },
     "execution_count": 65,
     "metadata": {},
     "output_type": "execute_result"
    }
   ],
   "source": [
    "# (c) pi = 3.141593e+00, e = 2.718282e+00\n",
    "\n",
    "'pi = {0:e}, e = {1:e}'.format(pi,e)"
   ]
  },
  {
   "cell_type": "code",
   "execution_count": 66,
   "metadata": {},
   "outputs": [
    {
     "data": {
      "text/plain": [
       "'pi = 3.14159, e = 2.71828'"
      ]
     },
     "execution_count": 66,
     "metadata": {},
     "output_type": "execute_result"
    }
   ],
   "source": [
    "# (d) pi = 3.14159, e = 2.71828\n",
    "\n",
    "'pi = {:0.5f}, e = {:1.5f}'.format(pi,e)"
   ]
  },
  {
   "cell_type": "markdown",
   "metadata": {},
   "source": [
    "## Problem 4.22"
   ]
  },
  {
   "cell_type": "markdown",
   "metadata": {},
   "source": [
    "Write a function month() that takes a number between 1 and 12 as input and returns the three-character abbreviation of the corresponding month. Do this without using an if statement, just string operations. Hint: Use a string to store the abbreviations in order."
   ]
  },
  {
   "cell_type": "markdown",
   "metadata": {},
   "source": [
    "--> month(1)"
   ]
  },
  {
   "cell_type": "markdown",
   "metadata": {},
   "source": [
    "'Jan'"
   ]
  },
  {
   "cell_type": "markdown",
   "metadata": {},
   "source": [
    "--> month(11)"
   ]
  },
  {
   "cell_type": "markdown",
   "metadata": {},
   "source": [
    "'Nov'"
   ]
  },
  {
   "cell_type": "code",
   "execution_count": 67,
   "metadata": {},
   "outputs": [
    {
     "data": {
      "text/plain": [
       "'Nov'"
      ]
     },
     "execution_count": 67,
     "metadata": {},
     "output_type": "execute_result"
    }
   ],
   "source": [
    "def month(num):\n",
    "    months='Jan Feb Mar Apr May Jun Jul Aug Sep Oct Nov Dec'\n",
    "    return months.split()[num-1]\n",
    "month(11)"
   ]
  },
  {
   "cell_type": "markdown",
   "metadata": {},
   "source": [
    "## Problem 4.23"
   ]
  },
  {
   "cell_type": "markdown",
   "metadata": {},
   "source": [
    "Write a function average() that takes no input but requests that the user enter a sentence. Your function should return the average length of a word in the sentence."
   ]
  },
  {
   "cell_type": "markdown",
   "metadata": {},
   "source": [
    "--> average()"
   ]
  },
  {
   "cell_type": "markdown",
   "metadata": {},
   "source": [
    "Enter a sentence: A sample sentence"
   ]
  },
  {
   "cell_type": "markdown",
   "metadata": {},
   "source": [
    "5.0"
   ]
  },
  {
   "cell_type": "code",
   "execution_count": 68,
   "metadata": {},
   "outputs": [
    {
     "name": "stdout",
     "output_type": "stream",
     "text": [
      "Enter a sentence: 'A sample sentence'\n",
      "5.0\n"
     ]
    }
   ],
   "source": [
    "def average():\n",
    "    s=eval(input(\"Enter a sentence: \"))\n",
    "    new=s.replace(' ','')\n",
    "    num=len(new)\n",
    "    lst=s.split(\" \")\n",
    "    total=len(lst)\n",
    "    average= num/total\n",
    "    print(average)\n",
    "    \n",
    "average()"
   ]
  },
  {
   "cell_type": "markdown",
   "metadata": {},
   "source": [
    "## Problem 4.24"
   ]
  },
  {
   "cell_type": "markdown",
   "metadata": {},
   "source": [
    "Implement function cheer() that takes as input a team name (as a string) and prints a cheer as shown:"
   ]
  },
  {
   "cell_type": "markdown",
   "metadata": {},
   "source": [
    "--> cheer( 'Huskies' )"
   ]
  },
  {
   "cell_type": "markdown",
   "metadata": {},
   "source": [
    "How do you spell winner?"
   ]
  },
  {
   "cell_type": "markdown",
   "metadata": {},
   "source": [
    "I know, I know!"
   ]
  },
  {
   "cell_type": "markdown",
   "metadata": {},
   "source": [
    "H U S K I E S !"
   ]
  },
  {
   "cell_type": "markdown",
   "metadata": {},
   "source": [
    "And that 's how you spell winner!"
   ]
  },
  {
   "cell_type": "markdown",
   "metadata": {},
   "source": [
    "Go Huskies!"
   ]
  },
  {
   "cell_type": "code",
   "execution_count": 78,
   "metadata": {
    "scrolled": true
   },
   "outputs": [
    {
     "name": "stdout",
     "output_type": "stream",
     "text": [
      "How do you spell winner?\n",
      "I know, I know!\n",
      "H  U  S  K  I  E  S  !\n",
      "And that's how you spell winner!\n",
      "Go Huskies!\n"
     ]
    }
   ],
   "source": [
    "def cheer(team_name):\n",
    "    print(\"How do you spell winner?\")\n",
    "    print('I know, I know!')\n",
    "    up=team_name.upper()\n",
    "    for i in up:\n",
    "        j=up[up.index(i)]\n",
    "        print('{} '.format(j),end=\" \")\n",
    "    print('!')\n",
    "    print(\"And that's how you spell winner!\")\n",
    "    print('Go Huskies!')\n",
    "cheer('Huskies')"
   ]
  },
  {
   "cell_type": "markdown",
   "metadata": {},
   "source": [
    "## Problem 4.25"
   ]
  },
  {
   "cell_type": "markdown",
   "metadata": {},
   "source": [
    "Write function vowelCount() that takes a string as input and counts and prints the number of occurrences of vowels in the string."
   ]
  },
  {
   "cell_type": "markdown",
   "metadata": {},
   "source": [
    "--> vowelCount( 'Le Tour de France' )"
   ]
  },
  {
   "cell_type": "markdown",
   "metadata": {},
   "source": [
    "a, e, i, o, and u appear, respectively, 1, 3, 0, 1, 1 times."
   ]
  },
  {
   "cell_type": "code",
   "execution_count": 79,
   "metadata": {},
   "outputs": [
    {
     "name": "stdout",
     "output_type": "stream",
     "text": [
      "a, e, i, o, u appear, respectively, 1, 3, 0, 1, 1 times.\n"
     ]
    }
   ],
   "source": [
    "def vowelCount(string):\n",
    "    l=string.lower()\n",
    "    a=l.count('a')\n",
    "    e=l.count('e')\n",
    "    i=l.count('i')\n",
    "    o=l.count('o')\n",
    "    u=l.count('u')\n",
    "    print('a, e, i, o, u appear, respectively, {}, {}, {}, {}, {} times.'.format(a,e,i,o,u))\n",
    "\n",
    "vowelCount('Le Tour de France')"
   ]
  },
  {
   "cell_type": "markdown",
   "metadata": {},
   "source": [
    "## Problem 4.26"
   ]
  },
  {
   "cell_type": "markdown",
   "metadata": {},
   "source": [
    "The cryptography function crypto() takes as input a string (i.e., the name of a file in the current directory). The function should print the file on the screen with this modification: Every occurrence of string 'secret' in the file should be replaced with string 'xxxxxx'."
   ]
  },
  {
   "cell_type": "markdown",
   "metadata": {},
   "source": [
    "--> crypto( 'crypto.txt' )"
   ]
  },
  {
   "cell_type": "markdown",
   "metadata": {},
   "source": [
    "I will tell you my xxxxxx. But first, I have to explain"
   ]
  },
  {
   "cell_type": "markdown",
   "metadata": {},
   "source": [
    "why it is a xxxxxx."
   ]
  },
  {
   "cell_type": "markdown",
   "metadata": {},
   "source": [
    "And that is all I will tell you about my xxxxxx"
   ]
  },
  {
   "cell_type": "code",
   "execution_count": 80,
   "metadata": {},
   "outputs": [
    {
     "name": "stdout",
     "output_type": "stream",
     "text": [
      "I will tell you my xxxxx. But first, I have to explain\n",
      "why it is a xxxxx.\n",
      "\n",
      "And that is all I will tell you about my xxxxx.\n"
     ]
    }
   ],
   "source": [
    "def crypto(file_name):\n",
    "    file=open(file_name)\n",
    "    content=file.read()\n",
    "    file.close()\n",
    "    new=content.replace('secret','xxxxx')\n",
    "    print(new)\n",
    "\n",
    "crypto('crypto.txt')"
   ]
  },
  {
   "cell_type": "markdown",
   "metadata": {},
   "source": [
    "## Problem 4.27"
   ]
  },
  {
   "cell_type": "markdown",
   "metadata": {},
   "source": [
    "Write a function fcopy() that takes as input two file names (as strings) and copies the content of the first file into the second."
   ]
  },
  {
   "cell_type": "markdown",
   "metadata": {},
   "source": [
    "--> fcopy( 'example.txt' , 'output.txt' )"
   ]
  },
  {
   "cell_type": "markdown",
   "metadata": {},
   "source": [
    "--> open( 'output.txt' ).read()"
   ]
  },
  {
   "cell_type": "markdown",
   "metadata": {},
   "source": [
    "'The 3 lines in this file end with the new line character.\\n\\n"
   ]
  },
  {
   "cell_type": "markdown",
   "metadata": {},
   "source": [
    "There is a blank line above this line.\\n'"
   ]
  },
  {
   "cell_type": "code",
   "execution_count": 81,
   "metadata": {},
   "outputs": [
    {
     "data": {
      "text/plain": [
       "'The 3 lines in this file end with the new line character.\\n\\nThere is a blank line above this line.'"
      ]
     },
     "execution_count": 81,
     "metadata": {},
     "output_type": "execute_result"
    }
   ],
   "source": [
    "def fcopy(filename1,filename2):\n",
    "    file1=open(filename1)\n",
    "    content=file1.read()\n",
    "    file1.close()\n",
    "    file2=open(filename2, 'w')    \n",
    "    file2.write(content)\n",
    "    file2.close()\n",
    "\n",
    "fcopy( 'example.txt' , 'output.txt' )\n",
    "open('output.txt').read()"
   ]
  },
  {
   "cell_type": "markdown",
   "metadata": {},
   "source": [
    "## Problem 4.28"
   ]
  },
  {
   "cell_type": "markdown",
   "metadata": {},
   "source": [
    "Implement function links() that takes as input the name of an HTML file (as a string) and returns the number of hyperlinks in that file. To do this you will assume that each hyperlink appears in an anchor tag. You also need to know that every anchor tag ends with the substring < /a > ."
   ]
  },
  {
   "cell_type": "markdown",
   "metadata": {},
   "source": [
    "Test your code on HTML file twolinks.html or any HTML file downloaded from the web into the folder where your program is."
   ]
  },
  {
   "cell_type": "code",
   "execution_count": 82,
   "metadata": {},
   "outputs": [
    {
     "data": {
      "text/plain": [
       "5"
      ]
     },
     "execution_count": 82,
     "metadata": {},
     "output_type": "execute_result"
    }
   ],
   "source": [
    "def links(filename):\n",
    "    file=open(filename)\n",
    "    content=file.read()\n",
    "    return content.count('</a>')\n",
    "\n",
    "links('homework3.html')"
   ]
  },
  {
   "cell_type": "markdown",
   "metadata": {},
   "source": [
    "## Problem 4.29"
   ]
  },
  {
   "cell_type": "markdown",
   "metadata": {},
   "source": [
    "Write a function stats() that takes one input argument: the name of a text file. The function should print, on the screen, the number of lines, words, and characters in the file; your function should open the file only once."
   ]
  },
  {
   "cell_type": "markdown",
   "metadata": {},
   "source": [
    "--> stats( 'example.txt' )"
   ]
  },
  {
   "cell_type": "markdown",
   "metadata": {},
   "source": [
    "line count: 3"
   ]
  },
  {
   "cell_type": "markdown",
   "metadata": {},
   "source": [
    "word count: 20"
   ]
  },
  {
   "cell_type": "markdown",
   "metadata": {},
   "source": [
    "character count: 98"
   ]
  },
  {
   "cell_type": "code",
   "execution_count": 87,
   "metadata": {},
   "outputs": [
    {
     "name": "stdout",
     "output_type": "stream",
     "text": [
      "line count: 3\n",
      "word count: 20\n",
      "character count: 97\n"
     ]
    }
   ],
   "source": [
    "def stats(filename):\n",
    "    file=open(filename)\n",
    "    content= file.read()\n",
    "    file.close()\n",
    "        \n",
    "    lines= content.count(\"\\n\")+1\n",
    "    print('line count:', lines)\n",
    "    \n",
    "    content=content.replace('\\n',' ')\n",
    "    words= len(content.split())\n",
    "    print('word count:',str(words))\n",
    "    \n",
    "    character=len(content)-content.count(\"\\n\")\n",
    "    print('character count:', len(content))\n",
    "stats('example.txt')"
   ]
  },
  {
   "cell_type": "markdown",
   "metadata": {},
   "source": [
    "## Problem 4.30"
   ]
  },
  {
   "cell_type": "markdown",
   "metadata": {},
   "source": [
    "Implement function distribution() that takes as input the name of a file (as a string). This one-line file will contain letter grades separated by blanks. Your function should print the distribution of grades, as shown."
   ]
  },
  {
   "cell_type": "markdown",
   "metadata": {},
   "source": [
    "--> distribution( 'grades.txt' )"
   ]
  },
  {
   "cell_type": "markdown",
   "metadata": {},
   "source": [
    "6 students got A"
   ]
  },
  {
   "cell_type": "markdown",
   "metadata": {},
   "source": [
    "2 students got A-"
   ]
  },
  {
   "cell_type": "markdown",
   "metadata": {},
   "source": [
    "3 students got B+"
   ]
  },
  {
   "cell_type": "markdown",
   "metadata": {},
   "source": [
    "2 students got B"
   ]
  },
  {
   "cell_type": "markdown",
   "metadata": {},
   "source": [
    "4 students got C"
   ]
  },
  {
   "cell_type": "markdown",
   "metadata": {},
   "source": [
    "1 student got C-"
   ]
  },
  {
   "cell_type": "markdown",
   "metadata": {},
   "source": [
    "2 students got F"
   ]
  },
  {
   "cell_type": "code",
   "execution_count": 84,
   "metadata": {},
   "outputs": [
    {
     "name": "stdout",
     "output_type": "stream",
     "text": [
      "6 students got A\n",
      "2 students got A-\n",
      "3 students got B+\n",
      "2 students got B\n",
      "4 students got C\n",
      "1 students got C-\n",
      "2 students got F\n"
     ]
    }
   ],
   "source": [
    "def distribution(filename):\n",
    "    file= open(filename)\n",
    "    data=file.read()\n",
    "    lst=data.split(' ')\n",
    "    count={}\n",
    "    for grade in lst:\n",
    "        count[grade]=count.get(grade, 0)+1\n",
    "    n=count.items()\n",
    "    for i in n: \n",
    "        print('{} students got {}'.format(i[1], i[0]))\n",
    "\n",
    "distribution('grades.txt')"
   ]
  },
  {
   "cell_type": "markdown",
   "metadata": {},
   "source": [
    "## Problem 4.31"
   ]
  },
  {
   "cell_type": "markdown",
   "metadata": {},
   "source": [
    "Implement function duplicate() that takes as input the name (a string) of a file in the current directory and returns True if the file contains duplicate words and False otherwise."
   ]
  },
  {
   "cell_type": "markdown",
   "metadata": {},
   "source": [
    "--> duplicate( 'Duplicates.txt' )"
   ]
  },
  {
   "cell_type": "markdown",
   "metadata": {},
   "source": [
    "True"
   ]
  },
  {
   "cell_type": "code",
   "execution_count": 85,
   "metadata": {},
   "outputs": [
    {
     "name": "stdout",
     "output_type": "stream",
     "text": [
      "True\n"
     ]
    }
   ],
   "source": [
    "def duplicate(filename):\n",
    "    file=open(filename)\n",
    "    content=file.read()\n",
    "    file.close()\n",
    "    words= content.split()\n",
    "    set1=set(words)\n",
    "    if len(set1)==len(words):\n",
    "        print(False)\n",
    "    else:\n",
    "        print(True)\n",
    "    \n",
    "duplicate('Duplicates.txt')    "
   ]
  },
  {
   "cell_type": "markdown",
   "metadata": {},
   "source": [
    "## Problem 4.32"
   ]
  },
  {
   "cell_type": "markdown",
   "metadata": {},
   "source": [
    "The function censor() takes the name of a file (a string) as input. The function should open the file, read it, and then write it into file censored.txt with this modification: Every occurrence of a four-letter word in the file should be replaced with string 'xxxx'."
   ]
  },
  {
   "cell_type": "markdown",
   "metadata": {},
   "source": [
    "censor( 'example.txt' )"
   ]
  },
  {
   "cell_type": "markdown",
   "metadata": {},
   "source": [
    "Note that this function produces no output, but it does create file censored.txt in the current folder."
   ]
  },
  {
   "cell_type": "code",
   "execution_count": 86,
   "metadata": {},
   "outputs": [
    {
     "data": {
      "text/plain": [
       "'The 3 lines in xxxx xxxx end xxxx the new xxxx character There is a blank xxxx above xxxx xxxx '"
      ]
     },
     "execution_count": 86,
     "metadata": {},
     "output_type": "execute_result"
    }
   ],
   "source": [
    "def censor(filename):\n",
    "    \n",
    "    file = open(filename, 'r')\n",
    "    data = file.read()\n",
    "    file.close()\n",
    "    outfile=open('censored.txt', 'w')\n",
    "    \n",
    "    table = str.maketrans('.',' ')\n",
    "    data = data.translate(table)\n",
    "    text = data.split()\n",
    "    \n",
    "    for word in text:\n",
    "        if len(word) == 4:\n",
    "            censored = word.replace(word, \"xxxx \")\n",
    "            outfile.write(censored)\n",
    "        else:\n",
    "            outfile.write(word + ' ')\n",
    "    outfile.close()\n",
    "\n",
    "censor('example.txt')\n",
    "open('censored.txt').read()"
   ]
  }
 ],
 "metadata": {
  "kernelspec": {
   "display_name": "Python 3",
   "language": "python",
   "name": "python3"
  },
  "language_info": {
   "codemirror_mode": {
    "name": "ipython",
    "version": 3
   },
   "file_extension": ".py",
   "mimetype": "text/x-python",
   "name": "python",
   "nbconvert_exporter": "python",
   "pygments_lexer": "ipython3",
   "version": "3.8.5"
  }
 },
 "nbformat": 4,
 "nbformat_minor": 4
}
